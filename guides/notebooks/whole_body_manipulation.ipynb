{
 "cells": [
  {
   "cell_type": "markdown",
   "metadata": {},
   "source": [
    "# Whole-body manipulation\n",
    "The objective of this exercise is to reach multiple targets while keeping balance in the Talos humanoid robot.\n",
    "\n",
    "<img src=\"https://robots.ros.org/assets/img/robots/talos/TALOS-Wave.jpg\" alt=\"drawing\" width=\"250\"/>\n",
    "\n",
    "\n",
    "This exercise focuses on a multi-contact optimal control problem of the form:\n",
    "\n",
    "\\begin{equation}\\nonumber\n",
    "\t\\begin{aligned}\n",
    "\t\t\\min_{\\mathbf{x}_s,\\mathbf{u}_s}\n",
    "\t\t&\\hspace{-2.em}\n",
    "\t\t& & \\hspace{-0.75em}l_N(\\mathbf{x}_{N})+\\sum_{k=0}^{N-1} \\int_{t_k}^{t_k+\\Delta t_k}\\hspace{-2.em} l_k(\\mathbf{x}_k,\\mathbf{u}_k)dt \\hspace{-8.em}&\\\\\n",
    "\t\t& \\hspace{-1em}\\textrm{s.t.}\n",
    "\t\t& & \\mathbf{q}_{k+1} = \\mathbf{q}_k \\oplus \\int_{t_k}^{t_k+\\Delta t_k}\\hspace{-2.em}\\mathbf{v}_{k+1}\\,dt, &\\textrm{(integrator)}\\\\\n",
    "\t\t& & & \\mathbf{v}_{k+1} = \\mathbf{v}_k + \\int_{t_k}^{t_k+\\Delta t_k}\\hspace{-2.em}\\mathbf{\\dot{v}}_k\\,dt, &\\\\\n",
    "\t\t& & & \\hspace{-1em}\\left[\\begin{matrix}\\mathbf{\\dot{v}}_k \\\\ -\\boldsymbol{\\lambda}_k\\end{matrix}\\right] =\n",
    "\t\t\\left[\\begin{matrix}\\mathbf{M} & \\mathbf{J}^{\\top}_c \\\\ {\\mathbf{J}_{c}} & \\mathbf{0} \\end{matrix}\\right]^{-1}\n",
    "\t\t\\left[\\begin{matrix}\\boldsymbol{\\tau}_b \\\\ -\\mathbf{a}_0 \\\\\\end{matrix}\\right], &\\textrm{(contact dynamics)}\\\\\n",
    "\t\t& & & \\mathbf{R}\\boldsymbol{\\lambda}_{\\mathcal{C}(k)} \\leq \\mathbf{\\mathbf{r}}, &\\textrm{(friction-cone)}\\\\\n",
    "\t\t\t& & & \\mathbf{\\bar{x}} \\leq \\mathbf{x}_k \\leq \\mathbf{\\underline{x}}, &\\textrm{(state bounds)}\n",
    "\t\t\\end{aligned}\n",
    "\\end{equation}\n",
    "\n",
    "where $l_i(\\mathbf{x}_i, \\mathbf{u}_i) = w_{hand}\\|\\log{(\\mathbf{p}_{\\mathcal{G}(k)}(\\mathbf{q}_k)^{-1} \\mathbf{^oM}_{\\mathbf{f}_{\\mathcal{G}(k)}})}\\| + w_{xreg}\\|\\mathbf{x} - \\mathbf{x}_0\\|_{Q} + w_{ureg}\\|\\mathbf{u}\\|_{R}$. Note that (1) the first term is the hand placement cost and (2) the terminal cost does not include the control regularization term.\n",
    "\n",
    "Below there is a basic example that defines the above problem for reaching one target. Later, you will have to build the problem on top of it.\n",
    "\n",
    "Without no more preamble, let's first declare the robot model and the foot and hand names!"
   ]
  },
  {
   "cell_type": "code",
   "execution_count": 4,
   "metadata": {},
   "outputs": [],
   "source": [
    "import crocoddyl\n",
    "from example_robot_data.robots_loader import RobotLoader\n",
    "import numpy as np\n",
    "import pinocchio as pin\n",
    "\n",
    "urdf_path = \"/home/pdebbad/ros2_dev_ws/talos_harmonic/src/guides/notebooks/talos_description/robots/talos.urdf\"\n",
    "srdf_path = \"/home/pdebbad/ros2_dev_ws/talos_harmonic/src/guides/notebooks/talos_description/srdf/talos.srdf\"\n",
    "\n",
    "# Load robot\n",
    "robot = pin.robot_wrapper.RobotWrapper.BuildFromURDF(\n",
    "    str(urdf_path), \n",
    "    [\"/home/pdebbad/ros2_dev_ws/talos_harmonic/src/guides/notebooks\"],\n",
    "    pin.JointModelFreeFlyer()\n",
    ")\n",
    "rmodel = robot.model\n",
    "\n",
    "pin.loadRotorParameters(rmodel, srdf_path, False)\n",
    "rmodel.armature = np.multiply(\n",
    "    rmodel.rotorInertia.flat, np.square(rmodel.rotorGearRatio.flat)\n",
    ")\n",
    "pin.loadReferenceConfigurations(rmodel, srdf_path, False)\n",
    "q0 = pin.neutral(rmodel)\n",
    "q0 = rmodel.referenceConfigurations[\"half_sitting\"].copy()\n",
    "q0 = pin.normalize(rmodel, q0)\n",
    "# for key in rmodel.referenceConfigurations:\n",
    "#     print(key)\n",
    "# for frame in rmodel.frames:\n",
    "#     print(frame.name)\n",
    "x0 = np.concatenate([q0, np.zeros(rmodel.nv)])\n",
    "\n",
    "\n",
    "# Declaring the foot and hand names\n",
    "rf_name = \"right_sole_link\"\n",
    "lf_name = \"left_sole_link\"\n",
    "lh_name = \"gripper_left_joint\"\n",
    "rh_name = \"gripper_right_joint\"\n",
    "\n",
    "# Getting the frame ids\n",
    "rf_id = rmodel.getFrameId(rf_name)\n",
    "lf_id = rmodel.getFrameId(lf_name)\n",
    "lh_id = rmodel.getFrameId(lh_name)\n",
    "rh_id = rmodel.getFrameId(rh_name)\n",
    "\n",
    "# Define the robot's state and actuation\n",
    "state = crocoddyl.StateMultibody(rmodel)\n",
    "actuation = crocoddyl.ActuationModelFloatingBase(state)"
   ]
  },
  {
   "cell_type": "code",
   "execution_count": 5,
   "metadata": {},
   "outputs": [],
   "source": [
    "# import crocoddyl\n",
    "# import example_robot_data\n",
    "# import numpy as np\n",
    "# import pinocchio as pin\n",
    "\n",
    "# # Load robot\n",
    "# robot = example_robot_data.load(\"talos_full\")\n",
    "# rmodel = robot.model\n",
    "# # for key in rmodel.referenceConfigurations:\n",
    "# #     print(key)\n",
    "# # for frame in rmodel.frames:\n",
    "# #     print(frame.name)\n",
    "# q0 = rmodel.referenceConfigurations[\"half_sitting\"]\n",
    "# x0 = np.concatenate([q0, np.zeros(rmodel.nv)])\n",
    "\n",
    "# # Declaring the foot and hand names\n",
    "# rf_name = \"right_sole_link\"\n",
    "# lf_name = \"left_sole_link\"\n",
    "# lh_name = \"gripper_left_joint\"\n",
    "\n",
    "# # Getting the frame ids\n",
    "# rf_id = rmodel.getFrameId(rf_name)\n",
    "# lf_id = rmodel.getFrameId(lf_name)\n",
    "# lh_id = rmodel.getFrameId(lh_name)\n",
    "\n",
    "# # Define the robot's state and actuation\n",
    "# state = crocoddyl.StateMultibody(rmodel)\n",
    "\n",
    "# actuation = crocoddyl.ActuationModelFloatingBase(state)"
   ]
  },
  {
   "cell_type": "markdown",
   "metadata": {},
   "source": [
    "With the following function, we could build a differential action model giving a desired hand target.\n",
    "The function builds a double-support contact phase and defines a hand-placement task. The cost function also includes:\n",
    " - state and control regularization terms\n",
    " - state limits penalization\n",
    " - friction cone penalization\n"
   ]
  },
  {
   "cell_type": "code",
   "execution_count": 6,
   "metadata": {},
   "outputs": [],
   "source": [
    "def createActionModel(target):\n",
    "    # Creating a double-support contact (feet support)\n",
    "    contacts = crocoddyl.ContactModelMultiple(state, actuation.nu)\n",
    "    lf_contact = crocoddyl.ContactModel6D(\n",
    "        state,\n",
    "        lf_id,\n",
    "        pin.SE3.Identity(),\n",
    "        pin.LOCAL_WORLD_ALIGNED,\n",
    "        actuation.nu,\n",
    "        np.array([0, 0]),\n",
    "    )\n",
    "    rf_contact = crocoddyl.ContactModel6D(\n",
    "        state,\n",
    "        rf_id,\n",
    "        pin.SE3.Identity(),\n",
    "        pin.LOCAL_WORLD_ALIGNED,\n",
    "        actuation.nu,\n",
    "        np.array([0, 0]),\n",
    "    )\n",
    "    contacts.addContact(\"lf_contact\", lf_contact)\n",
    "    contacts.addContact(\"rf_contact\", rf_contact)\n",
    "\n",
    "    # Define the cost sum (cost manager)\n",
    "    costs = crocoddyl.CostModelSum(state, actuation.nu)\n",
    "\n",
    "    # Adding the hand-placement cost\n",
    "    w_hand = np.array([1] * 3 + [0.0001] * 3)\n",
    "    lh_Mref = pin.SE3(np.eye(3), target)\n",
    "    activation_hand = crocoddyl.ActivationModelWeightedQuad(w_hand**2)\n",
    "    lh_cost = crocoddyl.CostModelResidual(\n",
    "        state,\n",
    "        activation_hand,\n",
    "        crocoddyl.ResidualModelFramePlacement(state, lh_id, lh_Mref, actuation.nu),\n",
    "    )\n",
    "    costs.addCost(\"lh_goal\", lh_cost, 1e2)\n",
    "\n",
    "    # Adding state and control regularization terms\n",
    "    w_x = np.array([0] * 3 + [10.0] * 3 + [0.01] * (state.nv - 6) + [10] * state.nv)\n",
    "    activation_xreg = crocoddyl.ActivationModelWeightedQuad(w_x**2)\n",
    "    x_reg_cost = crocoddyl.CostModelResidual(\n",
    "        state, activation_xreg, crocoddyl.ResidualModelState(state, x0, actuation.nu)\n",
    "    )\n",
    "    u_reg_cost = crocoddyl.CostModelResidual(\n",
    "        state, crocoddyl.ResidualModelControl(state, actuation.nu)\n",
    "    )\n",
    "    costs.addCost(\"xReg\", x_reg_cost, 1e-3)\n",
    "    costs.addCost(\"uReg\", u_reg_cost, 1e-4)\n",
    "\n",
    "    # Adding the state limits penalization\n",
    "    # x_lb = state.lb\n",
    "    # x_ub = state.ub\n",
    "    # activation_xbounds = crocoddyl.ActivationModelQuadraticBarrier(\n",
    "    #     crocoddyl.ActivationBounds(x_lb, x_ub)\n",
    "    # )\n",
    "    # x_bounds = crocoddyl.CostModelResidual(\n",
    "    #     state,\n",
    "    #     activation_xbounds,\n",
    "    #     crocoddyl.ResidualModelState(state, 0 * x0, actuation.nu),\n",
    "    # )\n",
    "    # costs.addCost(\"xBounds\", x_bounds, 1.0)\n",
    "\n",
    "    # Adding the friction cone penalization\n",
    "    nsurf, mu = np.identity(3), 0.7\n",
    "    cone = crocoddyl.FrictionCone(nsurf, mu, 4, False)\n",
    "    activation_friction = crocoddyl.ActivationModelQuadraticBarrier(\n",
    "        crocoddyl.ActivationBounds(cone.lb, cone.ub)\n",
    "    )\n",
    "    lf_friction = crocoddyl.CostModelResidual(\n",
    "        state,\n",
    "        activation_friction,\n",
    "        crocoddyl.ResidualModelContactFrictionCone(state, lf_id, cone, actuation.nu),\n",
    "    )\n",
    "    rf_friction = crocoddyl.CostModelResidual(\n",
    "        state,\n",
    "        activation_friction,\n",
    "        crocoddyl.ResidualModelContactFrictionCone(state, rf_id, cone, actuation.nu),\n",
    "    )\n",
    "    costs.addCost(\"lf_friction\", lf_friction, 1e1)\n",
    "    costs.addCost(\"rf_friction\", rf_friction, 1e1)\n",
    "\n",
    "    # Creating the action model\n",
    "    dmodel = crocoddyl.DifferentialActionModelContactFwdDynamics(\n",
    "        state, actuation, contacts, costs\n",
    "    )\n",
    "    return dmodel"
   ]
  },
  {
   "cell_type": "markdown",
   "metadata": {},
   "source": [
    "And to easily build a sequence of tasks, we have the following function"
   ]
  },
  {
   "cell_type": "code",
   "execution_count": 7,
   "metadata": {},
   "outputs": [],
   "source": [
    "def createSequence(dmodels, DT, N):\n",
    "    return [\n",
    "        [crocoddyl.IntegratedActionModelEuler(m, DT)] * N\n",
    "        + [crocoddyl.IntegratedActionModelEuler(m, 0.0)]\n",
    "        for m in dmodels\n",
    "    ]"
   ]
  },
  {
   "cell_type": "markdown",
   "metadata": {},
   "source": [
    "Finally, the following function allows us to display the motions and desired targets:"
   ]
  },
  {
   "cell_type": "code",
   "execution_count": 8,
   "metadata": {},
   "outputs": [],
   "source": [
    "import meshcat.geometry as g\n",
    "import meshcat.transformations as tf\n",
    "\n",
    "\n",
    "def createDisplay(targets):\n",
    "    display = crocoddyl.MeshcatDisplay(robot, 4, 4, False)\n",
    "    for i, target in enumerate(targets):\n",
    "        display.robot.viewer[\"target_\" + str(i)].set_object(g.Sphere(0.05))\n",
    "        Href = np.array(\n",
    "            [\n",
    "                [1.0, 0.0, 0.0, target[0]],\n",
    "                [0.0, 1.0, 0.0, target[1]],\n",
    "                [0.0, 0.0, 1.0, target[2]],\n",
    "                [0.0, 0.0, 0.0, 1.0],\n",
    "            ]\n",
    "        )\n",
    "        display.robot.viewer[\"target_\" + str(i)].set_transform(\n",
    "            np.array(\n",
    "                [\n",
    "                    [1.0, 0.0, 0.0, target[0]],\n",
    "                    [0.0, 1.0, 0.0, target[1]],\n",
    "                    [0.0, 0.0, 1.0, target[2]],\n",
    "                    [0.0, 0.0, 0.0, 1.0],\n",
    "                ]\n",
    "            )\n",
    "        )\n",
    "    return display"
   ]
  },
  {
   "cell_type": "markdown",
   "metadata": {},
   "source": [
    "Now, we create an optimal control problem to reach a single target"
   ]
  },
  {
   "cell_type": "code",
   "execution_count": 9,
   "metadata": {},
   "outputs": [
    {
     "name": "stdout",
     "output_type": "stream",
     "text": [
      "You can open the visualizer by visiting the following URL:\n",
      "http://127.0.0.1:7000/static/\n"
     ]
    },
    {
     "data": {
      "text/html": [
       "\n",
       "            <div style=\"height: 400px; width: 100%; overflow-x: auto; overflow-y: hidden; resize: both\">\n",
       "            <iframe src=\"http://127.0.0.1:7000/static/\" style=\"width: 100%; height: 100%; border: none\"></iframe>\n",
       "            </div>\n",
       "            "
      ],
      "text/plain": [
       "<IPython.core.display.HTML object>"
      ]
     },
     "execution_count": 9,
     "metadata": {},
     "output_type": "execute_result"
    }
   ],
   "source": [
    "DT, N = 5e-2, 20\n",
    "target = np.array([0.4, 0, 1.2])\n",
    "\n",
    "# Creating a running model for the target\n",
    "dmodel = createActionModel(target)\n",
    "seqs = createSequence([dmodel], DT, N)\n",
    "\n",
    "# Defining the problem and the solver\n",
    "problem = crocoddyl.ShootingProblem(x0, sum(seqs, [])[:-1], seqs[-1][-1])\n",
    "fddp = crocoddyl.SolverFDDP(problem)\n",
    "\n",
    "# # Creating display\n",
    "display = createDisplay([target])\n",
    "\n",
    "# Adding callbacks to inspect the evolution of the solver (logs are printed in the terminal)\n",
    "fddp.setCallbacks([crocoddyl.CallbackVerbose(), crocoddyl.CallbackDisplay(display)])\n",
    "\n",
    "# Embedded in this cell\n",
    "display.robot.viewer.jupyter_cell()"
   ]
  },
  {
   "cell_type": "markdown",
   "metadata": {},
   "source": [
    "Let's solve this problem!"
   ]
  },
  {
   "cell_type": "code",
   "execution_count": 10,
   "metadata": {},
   "outputs": [
    {
     "name": "stdout",
     "output_type": "stream",
     "text": [
      "iter    cost       merit      stop      |grad|      preg       dreg      step   ||ffeas||  ||gfeas||  ||hfeas||   dV-exp       dV      dPhi-exp     dPhi\n",
      "   0  1.566e+02  0.000e+00  2.484e+02  4.601e+02  1.000e-09  1.000e-09  0.2500  6.099e+00  0.000e+00  0.000e+00  1.018e+02  9.809e+01  0.000e+00  0.000e+00\n",
      "   1  3.426e+01  0.000e+00  1.520e+02  2.867e+02  1.000e-09  1.000e-09  0.5000  4.574e+00  0.000e+00  0.000e+00  1.097e+02  1.224e+02  0.000e+00  0.000e+00\n",
      "   2  1.272e+01  0.000e+00  3.086e+01  5.665e+01  1.000e-09  1.000e-09  0.5000  2.287e+00  0.000e+00  0.000e+00  2.188e+01  2.153e+01  0.000e+00  0.000e+00\n",
      "   3  5.694e+00  0.000e+00  9.690e+00  1.757e+01  1.000e-09  1.000e-09  0.5000  1.144e+00  0.000e+00  0.000e+00  6.816e+00  7.029e+00  0.000e+00  0.000e+00\n",
      "   4  3.746e+00  0.000e+00  2.868e+00  5.019e+00  1.000e-09  1.000e-09  0.5000  5.718e-01  0.000e+00  0.000e+00  1.972e+00  1.948e+00  0.000e+00  0.000e+00\n",
      "   5  2.914e+00  0.000e+00  1.003e+00  1.842e+00  1.000e-09  1.000e-09  1.0000  2.859e-01  0.000e+00  0.000e+00  1.003e+00  8.318e-01  0.000e+00  0.000e+00\n",
      "   6  2.702e+00  0.000e+00  2.175e-01  4.349e-01  1.000e-09  1.000e-09  1.0000  0.000e+00  0.000e+00  0.000e+00  2.175e-01  2.123e-01  0.000e+00  0.000e+00\n",
      "   7  2.695e+00  0.000e+00  7.135e-03  1.427e-02  1.000e-09  1.000e-09  1.0000  0.000e+00  0.000e+00  0.000e+00  7.135e-03  7.207e-03  0.000e+00  0.000e+00\n",
      "   8  2.694e+00  0.000e+00  2.613e-05  5.227e-05  1.000e-09  1.000e-09  1.0000  0.000e+00  0.000e+00  0.000e+00  2.613e-05  3.267e-05  0.000e+00  0.000e+00\n",
      "   9  2.694e+00  0.000e+00  2.503e-06  5.007e-06  1.000e-09  1.000e-09  1.0000  0.000e+00  0.000e+00  0.000e+00  2.503e-06  3.442e-06  0.000e+00  0.000e+00\n",
      "iter    cost       merit      stop      |grad|      preg       dreg      step   ||ffeas||  ||gfeas||  ||hfeas||   dV-exp       dV      dPhi-exp     dPhi\n",
      "  10  2.694e+00  0.000e+00  4.093e-07  8.186e-07  1.000e-09  1.000e-09  1.0000  0.000e+00  0.000e+00  0.000e+00  4.093e-07  5.826e-07  0.000e+00  0.000e+00\n",
      "  11  2.694e+00  0.000e+00  7.843e-08  1.569e-07  1.000e-09  1.000e-09  1.0000  0.000e+00  0.000e+00  0.000e+00  7.843e-08  1.131e-07  0.000e+00  0.000e+00\n",
      "  12  2.694e+00  0.000e+00  1.580e-08  3.159e-08  1.000e-09  1.000e-09  1.0000  0.000e+00  0.000e+00  0.000e+00  1.580e-08  2.289e-08  0.000e+00  0.000e+00\n",
      "  13  2.694e+00  0.000e+00  3.230e-09  6.460e-09  1.000e-09  1.000e-09  1.0000  0.000e+00  0.000e+00  0.000e+00  3.230e-09  4.688e-09  0.000e+00  0.000e+00\n",
      "Problem solved: True\n",
      "Number of iterations: 14\n",
      "Total cost: 2.694490911529146\n",
      "Gradient norm: 6.636412456533106e-10\n",
      "  14  2.694e+00  0.000e+00  6.636e-10  1.327e-09  1.000e-09  1.000e-09  1.0000  0.000e+00  0.000e+00  0.000e+00  6.636e-10  9.640e-10  0.000e+00  0.000e+00\n"
     ]
    }
   ],
   "source": [
    "print(\"Problem solved:\", fddp.solve())\n",
    "print(\"Number of iterations:\", fddp.iter)\n",
    "print(\"Total cost:\", fddp.cost)\n",
    "print(\"Gradient norm:\", fddp.stoppingCriteria())"
   ]
  },
  {
   "cell_type": "markdown",
   "metadata": {},
   "source": [
    "You could display again the final solution"
   ]
  },
  {
   "cell_type": "code",
   "execution_count": 11,
   "metadata": {},
   "outputs": [],
   "source": [
    "display.rate = -1\n",
    "display.freq = 1\n",
    "display.displayFromSolver(fddp)"
   ]
  },
  {
   "cell_type": "markdown",
   "metadata": {},
   "source": [
    "## Modifying the example\n",
    "\n",
    "Let's build an optimal control problem to reach 4 targets as described below:"
   ]
  },
  {
   "cell_type": "code",
   "execution_count": 12,
   "metadata": {},
   "outputs": [],
   "source": [
    "targets = []\n",
    "targets += [np.array([0.4, 0.1, 1.2])]\n",
    "targets += [np.array([0.6, 0.1, 1.2])]\n",
    "targets += [np.array([0.6, -0.1, 1.2])]\n",
    "targets += [np.array([0.4, -0.1, 1.2])]"
   ]
  },
  {
   "cell_type": "markdown",
   "metadata": {},
   "source": [
    "Now let's display the targets in Meshcat. Do not forget to embed again the display into the jupyter cell"
   ]
  },
  {
   "cell_type": "code",
   "execution_count": 13,
   "metadata": {},
   "outputs": [
    {
     "name": "stdout",
     "output_type": "stream",
     "text": [
      "You can open the visualizer by visiting the following URL:\n",
      "http://127.0.0.1:7001/static/\n"
     ]
    },
    {
     "data": {
      "text/html": [
       "\n",
       "            <div style=\"height: 400px; width: 100%; overflow-x: auto; overflow-y: hidden; resize: both\">\n",
       "            <iframe src=\"http://127.0.0.1:7001/static/\" style=\"width: 100%; height: 100%; border: none\"></iframe>\n",
       "            </div>\n",
       "            "
      ],
      "text/plain": [
       "<IPython.core.display.HTML object>"
      ]
     },
     "execution_count": 13,
     "metadata": {},
     "output_type": "execute_result"
    }
   ],
   "source": [
    "display = createDisplay(targets)\n",
    "\n",
    "# Embedded in this cell\n",
    "display.robot.viewer.jupyter_cell()"
   ]
  },
  {
   "cell_type": "markdown",
   "metadata": {},
   "source": [
    "After checking that everything is alright, it's time to build the sequence!\n",
    "Do not forget to create the problem as well :)"
   ]
  },
  {
   "cell_type": "code",
   "execution_count": 14,
   "metadata": {},
   "outputs": [],
   "source": [
    "DT, N = 5e-2, 20\n",
    "\n",
    "# Creating a running model for the target\n",
    "dmodel0 = createActionModel(targets[0])\n",
    "dmodel1 = createActionModel(targets[1])\n",
    "dmodel2 = createActionModel(targets[2])\n",
    "dmodel3 = createActionModel(targets[3])\n",
    "seqs = createSequence([dmodel0, dmodel1, dmodel2, dmodel3], DT, N)\n",
    "\n",
    "# Defining the problem and the solver\n",
    "problem = crocoddyl.ShootingProblem(x0, sum(seqs, [])[:-1], seqs[-1][-1])\n",
    "fddp = crocoddyl.SolverFDDP(problem)"
   ]
  },
  {
   "cell_type": "markdown",
   "metadata": {},
   "source": [
    "And we solve it as before"
   ]
  },
  {
   "cell_type": "code",
   "execution_count": 15,
   "metadata": {},
   "outputs": [
    {
     "name": "stdout",
     "output_type": "stream",
     "text": [
      "iter    cost       merit      stop      |grad|      preg       dreg      step   ||ffeas||  ||gfeas||  ||hfeas||   dV-exp       dV      dPhi-exp     dPhi\n",
      "   0  5.829e+02  0.000e+00  6.553e+02  1.264e+03  1.000e-09  1.000e-09  0.0625  6.099e+00  0.000e+00  0.000e+00  7.662e+01  7.935e+01  0.000e+00  0.000e+00\n",
      "   1  5.121e+02  0.000e+00  5.767e+02  1.112e+03  1.000e-09  1.000e-09  0.0625  5.718e+00  0.000e+00  0.000e+00  6.744e+01  7.076e+01  0.000e+00  0.000e+00\n",
      "   2  4.498e+02  0.000e+00  5.066e+02  9.793e+02  1.000e-09  1.000e-09  0.0625  5.361e+00  0.000e+00  0.000e+00  5.936e+01  6.228e+01  0.000e+00  0.000e+00\n",
      "   3  3.952e+02  0.000e+00  4.448e+02  8.622e+02  1.000e-09  1.000e-09  0.0625  5.025e+00  0.000e+00  0.000e+00  5.226e+01  5.465e+01  0.000e+00  0.000e+00\n",
      "   4  3.473e+02  0.000e+00  3.906e+02  7.588e+02  1.000e-09  1.000e-09  0.0625  4.711e+00  0.000e+00  0.000e+00  4.598e+01  4.789e+01  0.000e+00  0.000e+00\n",
      "   5  2.730e+02  0.000e+00  3.430e+02  6.712e+02  1.000e-09  1.000e-09  0.1250  4.417e+00  0.000e+00  0.000e+00  7.877e+01  7.431e+01  0.000e+00  0.000e+00\n",
      "   6  1.781e+02  0.000e+00  2.690e+02  5.304e+02  1.000e-09  1.000e-09  0.2500  3.865e+00  0.000e+00  0.000e+00  1.163e+02  9.494e+01  0.000e+00  0.000e+00\n",
      "   7  1.076e+02  0.000e+00  1.744e+02  3.469e+02  1.000e-09  1.000e-09  0.2500  2.899e+00  0.000e+00  0.000e+00  7.594e+01  7.043e+01  0.000e+00  0.000e+00\n",
      "   8  3.766e+01  0.000e+00  1.041e+02  2.091e+02  1.000e-09  1.000e-09  0.5000  2.174e+00  0.000e+00  0.000e+00  7.831e+01  6.997e+01  0.000e+00  0.000e+00\n",
      "   9  2.924e+01  0.000e+00  3.452e+01  6.885e+01  1.000e-09  1.000e-09  0.1250  1.087e+00  0.000e+00  0.000e+00  8.070e+00  8.421e+00  0.000e+00  0.000e+00\n",
      "iter    cost       merit      stop      |grad|      preg       dreg      step   ||ffeas||  ||gfeas||  ||hfeas||   dV-exp       dV      dPhi-exp     dPhi\n",
      "  10  2.365e+01  0.000e+00  2.618e+01  5.209e+01  1.000e-09  1.000e-09  0.1250  9.511e-01  0.000e+00  0.000e+00  6.106e+00  5.591e+00  0.000e+00  0.000e+00\n",
      "  11  1.901e+01  0.000e+00  2.066e+01  4.102e+01  1.000e-09  1.000e-09  0.1250  8.322e-01  0.000e+00  0.000e+00  4.809e+00  4.642e+00  0.000e+00  0.000e+00\n",
      "  12  1.499e+01  0.000e+00  1.607e+01  3.178e+01  1.000e-09  1.000e-09  0.1250  7.282e-01  0.000e+00  0.000e+00  3.728e+00  4.022e+00  0.000e+00  0.000e+00\n",
      "  13  1.189e+01  0.000e+00  1.209e+01  2.380e+01  1.000e-09  1.000e-09  0.1250  6.372e-01  0.000e+00  0.000e+00  2.792e+00  3.098e+00  0.000e+00  0.000e+00\n",
      "  14  7.861e+00  0.000e+00  9.029e+00  1.762e+01  1.000e-09  1.000e-09  0.2500  5.575e-01  0.000e+00  0.000e+00  3.868e+00  4.027e+00  0.000e+00  0.000e+00\n",
      "  15  5.892e+00  0.000e+00  5.053e+00  9.757e+00  1.000e-09  1.000e-09  0.2500  4.181e-01  0.000e+00  0.000e+00  2.145e+00  1.969e+00  0.000e+00  0.000e+00\n",
      "  16  4.672e+00  0.000e+00  3.118e+00  5.975e+00  1.000e-09  1.000e-09  0.2500  3.136e-01  0.000e+00  0.000e+00  1.315e+00  1.220e+00  0.000e+00  0.000e+00\n",
      "  17  3.448e+00  0.000e+00  1.921e+00  3.693e+00  1.000e-09  1.000e-09  0.5000  2.352e-01  0.000e+00  0.000e+00  1.403e+00  1.225e+00  0.000e+00  0.000e+00\n",
      "  18  3.099e+00  0.000e+00  7.246e-01  1.331e+00  1.000e-09  1.000e-09  1.0000  1.176e-01  0.000e+00  0.000e+00  7.246e-01  3.485e-01  0.000e+00  0.000e+00\n",
      "  19  2.773e+00  0.000e+00  3.950e-01  7.900e-01  1.000e-09  1.000e-09  1.0000  0.000e+00  0.000e+00  0.000e+00  3.950e-01  3.267e-01  0.000e+00  0.000e+00\n",
      "iter    cost       merit      stop      |grad|      preg       dreg      step   ||ffeas||  ||gfeas||  ||hfeas||   dV-exp       dV      dPhi-exp     dPhi\n",
      "  20  2.713e+00  0.000e+00  6.928e-02  1.386e-01  1.000e-09  1.000e-09  1.0000  0.000e+00  0.000e+00  0.000e+00  6.928e-02  5.979e-02  0.000e+00  0.000e+00\n",
      "  21  2.704e+00  0.000e+00  9.454e-03  1.891e-02  1.000e-09  1.000e-09  1.0000  0.000e+00  0.000e+00  0.000e+00  9.454e-03  8.723e-03  0.000e+00  0.000e+00\n",
      "  22  2.704e+00  0.000e+00  7.513e-04  1.503e-03  1.000e-09  1.000e-09  1.0000  0.000e+00  0.000e+00  0.000e+00  7.513e-04  5.242e-04  0.000e+00  0.000e+00\n",
      "  23  2.703e+00  0.000e+00  2.628e-04  5.256e-04  1.000e-09  1.000e-09  1.0000  0.000e+00  0.000e+00  0.000e+00  2.628e-04  7.314e-05  0.000e+00  0.000e+00\n",
      "  24  2.703e+00  0.000e+00  1.961e-04  3.922e-04  1.000e-09  1.000e-09  0.5000  0.000e+00  0.000e+00  0.000e+00  1.471e-04  9.489e-05  0.000e+00  0.000e+00\n",
      "  25  2.703e+00  0.000e+00  9.440e-06  1.888e-05  1.000e-09  1.000e-09  1.0000  0.000e+00  0.000e+00  0.000e+00  9.440e-06  9.417e-06  0.000e+00  0.000e+00\n",
      "  26  2.703e+00  0.000e+00  1.697e-06  3.393e-06  1.000e-09  1.000e-09  1.0000  0.000e+00  0.000e+00  0.000e+00  1.697e-06  9.536e-07  0.000e+00  0.000e+00\n",
      "  27  2.703e+00  0.000e+00  1.427e-06  2.854e-06  1.000e-09  1.000e-09  1.0000  0.000e+00  0.000e+00  0.000e+00  1.427e-06  2.645e-07  0.000e+00  0.000e+00\n",
      "  28  2.703e+00  0.000e+00  1.518e-06  3.037e-06  1.000e-09  1.000e-09  0.5000  0.000e+00  0.000e+00  0.000e+00  1.139e-06  7.577e-07  0.000e+00  0.000e+00\n",
      "  29  2.703e+00  0.000e+00  6.455e-08  1.291e-07  1.000e-09  1.000e-09  1.0000  0.000e+00  0.000e+00  0.000e+00  6.455e-08  9.549e-08  0.000e+00  0.000e+00\n",
      "iter    cost       merit      stop      |grad|      preg       dreg      step   ||ffeas||  ||gfeas||  ||hfeas||   dV-exp       dV      dPhi-exp     dPhi\n",
      "  30  2.703e+00  0.000e+00  2.954e-08  5.907e-08  1.000e-09  1.000e-09  1.0000  0.000e+00  0.000e+00  0.000e+00  2.954e-08  3.740e-08  0.000e+00  0.000e+00\n",
      "  31  2.703e+00  0.000e+00  1.687e-08  3.374e-08  1.000e-09  1.000e-09  1.0000  0.000e+00  0.000e+00  0.000e+00  1.687e-08  1.444e-08  0.000e+00  0.000e+00\n",
      "  32  2.703e+00  0.000e+00  1.303e-08  2.605e-08  1.000e-09  1.000e-09  1.0000  0.000e+00  0.000e+00  0.000e+00  1.303e-08  5.131e-09  0.000e+00  0.000e+00\n",
      "  33  2.703e+00  0.000e+00  1.300e-08  2.600e-08  1.000e-09  1.000e-09  0.5000  0.000e+00  0.000e+00  0.000e+00  9.749e-09  6.797e-09  0.000e+00  0.000e+00\n",
      "  34  2.703e+00  0.000e+00  1.064e-09  2.128e-09  1.000e-09  1.000e-09  1.0000  0.000e+00  0.000e+00  0.000e+00  1.064e-09  1.675e-09  0.000e+00  0.000e+00\n",
      "  35  2.703e+00  0.000e+00  4.661e-10  9.321e-10  1.000e-09  1.000e-09  1.0000  0.000e+00  0.000e+00  0.000e+00  4.661e-10  6.792e-10  0.000e+00  0.000e+00\n",
      "Problem solved: True\n",
      "Number of iterations: 35\n",
      "Total cost: 2.703349298901067\n",
      "Gradient norm: 4.660674386430266e-10\n"
     ]
    }
   ],
   "source": [
    "# Create the FDDP solver\n",
    "fddp = crocoddyl.SolverFDDP(problem)\n",
    "fddp.setCallbacks([crocoddyl.CallbackVerbose(), crocoddyl.CallbackDisplay(display)])\n",
    "\n",
    "# Solves the problem\n",
    "print(\"Problem solved:\", fddp.solve())\n",
    "print(\"Number of iterations:\", fddp.iter)\n",
    "print(\"Total cost:\", fddp.cost)\n",
    "print(\"Gradient norm:\", fddp.stoppingCriteria())"
   ]
  },
  {
   "cell_type": "markdown",
   "metadata": {},
   "source": [
    "Do not miss the change to display the motion at the right display speed!"
   ]
  },
  {
   "cell_type": "code",
   "execution_count": 16,
   "metadata": {},
   "outputs": [],
   "source": [
    "display.rate = -1\n",
    "display.freq = 1\n",
    "display.displayFromSolver(fddp)"
   ]
  },
  {
   "cell_type": "markdown",
   "metadata": {},
   "source": [
    "## Same targets with right hand\n",
    "\n",
    "You've learned how to reach 4 targets with the left hand, congratulations!\n",
    "\n",
    "To keep playing within this problem, you should create a new createActionModel to achieve the same task for the right hand."
   ]
  },
  {
   "cell_type": "code",
   "execution_count": 17,
   "metadata": {},
   "outputs": [],
   "source": [
    "def createActionModel(target):\n",
    "    # Creating a double-support contact (feet support)\n",
    "    contacts = crocoddyl.ContactModelMultiple(state, actuation.nu)\n",
    "    lf_contact = crocoddyl.ContactModel6D(\n",
    "        state,\n",
    "        lf_id,\n",
    "        pin.SE3.Identity(),\n",
    "        pin.LOCAL_WORLD_ALIGNED,\n",
    "        actuation.nu,\n",
    "        np.array([0, 0]),\n",
    "    )\n",
    "    rf_contact = crocoddyl.ContactModel6D(\n",
    "        state,\n",
    "        rf_id,\n",
    "        pin.SE3.Identity(),\n",
    "        pin.LOCAL_WORLD_ALIGNED,\n",
    "        actuation.nu,\n",
    "        np.array([0, 0]),\n",
    "    )\n",
    "    contacts.addContact(\"lf_contact\", lf_contact)\n",
    "    contacts.addContact(\"rf_contact\", rf_contact)\n",
    "\n",
    "    # Define the cost sum (cost manager)\n",
    "    costs = crocoddyl.CostModelSum(state, actuation.nu)\n",
    "\n",
    "    # Adding the hand-placement cost\n",
    "    w_hand = np.array([1] * 3 + [0.0001] * 3)\n",
    "    rh_Mref = pin.SE3(np.eye(3), target)\n",
    "    activation_hand = crocoddyl.ActivationModelWeightedQuad(w_hand**2)\n",
    "    rh_cost = crocoddyl.CostModelResidual(\n",
    "        state,\n",
    "        activation_hand,\n",
    "        crocoddyl.ResidualModelFramePlacement(state, rh_id, rh_Mref, actuation.nu),\n",
    "    )\n",
    "    costs.addCost(\"rh_goal\", rh_cost, 1e2)\n",
    "\n",
    "    # Adding state and control regularization terms\n",
    "    w_x = np.array([0] * 3 + [10.0] * 3 + [0.01] * (state.nv - 6) + [10] * state.nv)\n",
    "    activation_xreg = crocoddyl.ActivationModelWeightedQuad(w_x**2)\n",
    "    x_reg_cost = crocoddyl.CostModelResidual(\n",
    "        state, activation_xreg, crocoddyl.ResidualModelState(state, x0, actuation.nu)\n",
    "    )\n",
    "    u_reg_cost = crocoddyl.CostModelResidual(\n",
    "        state, crocoddyl.ResidualModelControl(state, actuation.nu)\n",
    "    )\n",
    "    costs.addCost(\"xReg\", x_reg_cost, 1e-3)\n",
    "    costs.addCost(\"uReg\", u_reg_cost, 1e-4)\n",
    "\n",
    "    # Adding the state limits penalization\n",
    "    # x_lb = state.lb\n",
    "    # x_ub = state.ub\n",
    "    # activation_xbounds = crocoddyl.ActivationModelQuadraticBarrier(\n",
    "    #     crocoddyl.ActivationBounds(x_lb, x_ub)\n",
    "    # )\n",
    "    # x_bounds = crocoddyl.CostModelResidual(\n",
    "    #     state,\n",
    "    #     activation_xbounds,\n",
    "    #     crocoddyl.ResidualModelState(state, 0 * x0, actuation.nu),\n",
    "    # )\n",
    "    # costs.addCost(\"xBounds\", x_bounds, 1.0)\n",
    "\n",
    "    # Adding the friction cone penalization\n",
    "    nsurf, mu = np.identity(3), 0.7\n",
    "    cone = crocoddyl.FrictionCone(nsurf, mu, 4, False)\n",
    "    activation_friction = crocoddyl.ActivationModelQuadraticBarrier(\n",
    "        crocoddyl.ActivationBounds(cone.lb, cone.ub)\n",
    "    )\n",
    "    lf_friction = crocoddyl.CostModelResidual(\n",
    "        state,\n",
    "        activation_friction,\n",
    "        crocoddyl.ResidualModelContactFrictionCone(state, lf_id, cone, actuation.nu),\n",
    "    )\n",
    "    rf_friction = crocoddyl.CostModelResidual(\n",
    "        state,\n",
    "        activation_friction,\n",
    "        crocoddyl.ResidualModelContactFrictionCone(state, rf_id, cone, actuation.nu),\n",
    "    )\n",
    "    costs.addCost(\"lf_friction\", lf_friction, 1e1)\n",
    "    costs.addCost(\"rf_friction\", rf_friction, 1e1)\n",
    "\n",
    "    # Creating the action model\n",
    "    dmodel = crocoddyl.DifferentialActionModelContactFwdDynamics(\n",
    "        state, actuation, contacts, costs\n",
    "    )\n",
    "    return dmodel"
   ]
  },
  {
   "cell_type": "markdown",
   "metadata": {},
   "source": [
    "And here you need to create the problem and solve.\n",
    "Do not forget to display the results"
   ]
  },
  {
   "cell_type": "code",
   "execution_count": 18,
   "metadata": {},
   "outputs": [],
   "source": [
    "DT, N = 5e-2, 20\n",
    "\n",
    "# Creating a running model for the target\n",
    "dmodel0 = createActionModel(targets[0])\n",
    "dmodel1 = createActionModel(targets[1])\n",
    "dmodel2 = createActionModel(targets[2])\n",
    "dmodel3 = createActionModel(targets[3])\n",
    "seqs = createSequence([dmodel0, dmodel1, dmodel2, dmodel3], DT, N)\n",
    "\n",
    "# Defining the problem and the solver\n",
    "problem = crocoddyl.ShootingProblem(x0, sum(seqs, [])[:-1], seqs[-1][-1])\n",
    "fddp = crocoddyl.SolverFDDP(problem)"
   ]
  },
  {
   "cell_type": "code",
   "execution_count": 19,
   "metadata": {},
   "outputs": [
    {
     "name": "stdout",
     "output_type": "stream",
     "text": [
      "iter    cost       merit      stop      |grad|      preg       dreg      step   ||ffeas||  ||gfeas||  ||hfeas||   dV-exp       dV      dPhi-exp     dPhi\n",
      "   0  5.917e+02  0.000e+00  7.679e+02  1.553e+03  1.000e-09  1.000e-09  0.1250  6.099e+00  0.000e+00  0.000e+00  1.819e+02  1.859e+02  0.000e+00  0.000e+00\n",
      "   1  4.608e+02  0.000e+00  5.852e+02  1.165e+03  1.000e-09  1.000e-09  0.1250  5.337e+00  0.000e+00  0.000e+00  1.365e+02  1.309e+02  0.000e+00  0.000e+00\n",
      "   2  3.522e+02  0.000e+00  4.545e+02  8.982e+02  1.000e-09  1.000e-09  0.1250  4.670e+00  0.000e+00  0.000e+00  1.053e+02  1.086e+02  0.000e+00  0.000e+00\n",
      "   3  2.696e+02  0.000e+00  3.459e+02  6.800e+02  1.000e-09  1.000e-09  0.1250  4.086e+00  0.000e+00  0.000e+00  7.978e+01  8.257e+01  0.000e+00  0.000e+00\n",
      "   4  2.070e+02  0.000e+00  2.634e+02  5.155e+02  1.000e-09  1.000e-09  0.1250  3.575e+00  0.000e+00  0.000e+00  6.050e+01  6.266e+01  0.000e+00  0.000e+00\n",
      "   5  1.596e+02  0.000e+00  2.008e+02  3.921e+02  1.000e-09  1.000e-09  0.1250  3.128e+00  0.000e+00  0.000e+00  4.602e+01  4.737e+01  0.000e+00  0.000e+00\n",
      "   6  1.240e+02  0.000e+00  1.535e+02  2.991e+02  1.000e-09  1.000e-09  0.1250  2.737e+00  0.000e+00  0.000e+00  3.511e+01  3.560e+01  0.000e+00  0.000e+00\n",
      "   7  9.663e+01  0.000e+00  1.179e+02  2.286e+02  1.000e-09  1.000e-09  0.1250  2.395e+00  0.000e+00  0.000e+00  2.684e+01  2.738e+01  0.000e+00  0.000e+00\n",
      "   8  7.140e+01  0.000e+00  9.051e+01  1.780e+02  1.000e-09  1.000e-09  0.2500  2.096e+00  0.000e+00  0.000e+00  3.904e+01  2.522e+01  0.000e+00  0.000e+00\n",
      "   9  4.448e+01  0.000e+00  6.535e+01  1.301e+02  1.000e-09  1.000e-09  0.5000  1.572e+00  0.000e+00  0.000e+00  4.886e+01  2.692e+01  0.000e+00  0.000e+00\n",
      "iter    cost       merit      stop      |grad|      preg       dreg      step   ||ffeas||  ||gfeas||  ||hfeas||   dV-exp       dV      dPhi-exp     dPhi\n",
      "  10  3.425e+01  0.000e+00  3.871e+01  7.575e+01  1.000e-09  1.000e-09  0.1250  7.859e-01  0.000e+00  0.000e+00  8.890e+00  1.023e+01  0.000e+00  0.000e+00\n",
      "  11  3.089e+01  0.000e+00  2.857e+01  5.574e+01  1.000e-09  1.000e-09  0.0625  6.877e-01  0.000e+00  0.000e+00  3.377e+00  3.366e+00  0.000e+00  0.000e+00\n",
      "  12  2.790e+01  0.000e+00  2.524e+01  4.921e+01  1.000e-09  1.000e-09  0.0625  6.447e-01  0.000e+00  0.000e+00  2.982e+00  2.982e+00  0.000e+00  0.000e+00\n",
      "  13  2.527e+01  0.000e+00  2.229e+01  4.343e+01  1.000e-09  1.000e-09  0.0625  6.044e-01  0.000e+00  0.000e+00  2.632e+00  2.636e+00  0.000e+00  0.000e+00\n",
      "  14  2.323e+01  0.000e+00  1.969e+01  3.817e+01  1.000e-09  1.000e-09  0.1250  5.666e-01  0.000e+00  0.000e+00  4.482e+00  2.041e+00  0.000e+00  0.000e+00\n",
      "  15  2.113e+01  0.000e+00  1.771e+01  3.442e+01  1.000e-09  1.000e-09  0.0625  4.958e-01  0.000e+00  0.000e+00  2.086e+00  2.094e+00  0.000e+00  0.000e+00\n",
      "  16  1.929e+01  0.000e+00  1.565e+01  3.038e+01  1.000e-09  1.000e-09  0.0625  4.648e-01  0.000e+00  0.000e+00  1.841e+00  1.842e+00  0.000e+00  0.000e+00\n",
      "  17  1.767e+01  0.000e+00  1.383e+01  2.683e+01  1.000e-09  1.000e-09  0.0625  4.357e-01  0.000e+00  0.000e+00  1.626e+00  1.619e+00  0.000e+00  0.000e+00\n",
      "  18  1.625e+01  0.000e+00  1.224e+01  2.372e+01  1.000e-09  1.000e-09  0.0625  4.085e-01  0.000e+00  0.000e+00  1.438e+00  1.428e+00  0.000e+00  0.000e+00\n",
      "  19  1.498e+01  0.000e+00  1.083e+01  2.098e+01  1.000e-09  1.000e-09  0.0625  3.830e-01  0.000e+00  0.000e+00  1.272e+00  1.266e+00  0.000e+00  0.000e+00\n",
      "iter    cost       merit      stop      |grad|      preg       dreg      step   ||ffeas||  ||gfeas||  ||hfeas||   dV-exp       dV      dPhi-exp     dPhi\n",
      "  20  1.386e+01  0.000e+00  9.589e+00  1.856e+01  1.000e-09  1.000e-09  0.0625  3.590e-01  0.000e+00  0.000e+00  1.125e+00  1.124e+00  0.000e+00  0.000e+00\n",
      "  21  1.286e+01  0.000e+00  8.485e+00  1.641e+01  1.000e-09  1.000e-09  0.0625  3.366e-01  0.000e+00  0.000e+00  9.944e-01  9.981e-01  0.000e+00  0.000e+00\n",
      "  22  1.171e+01  0.000e+00  7.505e+00  1.447e+01  1.000e-09  1.000e-09  0.1250  3.156e-01  0.000e+00  0.000e+00  1.700e+00  1.149e+00  0.000e+00  0.000e+00\n",
      "  23  9.339e+00  0.000e+00  6.389e+00  1.231e+01  1.000e-09  1.000e-09  0.2500  2.761e-01  0.000e+00  0.000e+00  2.708e+00  2.370e+00  0.000e+00  0.000e+00\n",
      "  24  8.358e+00  0.000e+00  4.073e+00  7.859e+00  1.000e-09  1.000e-09  0.5000  2.071e-01  0.000e+00  0.000e+00  2.983e+00  9.814e-01  0.000e+00  0.000e+00\n",
      "  25  7.924e+00  0.000e+00  3.136e+00  6.160e+00  1.000e-09  1.000e-09  0.1250  1.035e-01  0.000e+00  0.000e+00  7.227e-01  4.340e-01  0.000e+00  0.000e+00\n",
      "  26  7.733e+00  0.000e+00  2.724e+00  5.364e+00  1.000e-09  1.000e-09  0.1250  9.060e-02  0.000e+00  0.000e+00  6.293e-01  1.906e-01  0.000e+00  0.000e+00\n",
      "  27  7.316e+00  0.000e+00  2.546e+00  5.025e+00  1.000e-09  1.000e-09  0.1250  7.928e-02  0.000e+00  0.000e+00  5.894e-01  4.167e-01  0.000e+00  0.000e+00\n",
      "  28  5.783e+00  0.000e+00  2.127e+00  4.189e+00  1.000e-09  1.000e-09  0.5000  6.937e-02  0.000e+00  0.000e+00  1.579e+00  1.533e+00  0.000e+00  0.000e+00\n",
      "  29  5.710e+00  0.000e+00  6.310e-01  1.234e+00  1.000e-09  1.000e-09  0.2500  3.468e-02  0.000e+00  0.000e+00  2.708e-01  7.363e-02  0.000e+00  0.000e+00\n",
      "iter    cost       merit      stop      |grad|      preg       dreg      step   ||ffeas||  ||gfeas||  ||hfeas||   dV-exp       dV      dPhi-exp     dPhi\n",
      "  30  5.191e+00  0.000e+00  5.631e-01  1.106e+00  1.000e-09  1.000e-09  1.0000  2.601e-02  0.000e+00  0.000e+00  5.631e-01  5.183e-01  0.000e+00  0.000e+00\n",
      "  31  5.144e+00  0.000e+00  5.052e-02  1.010e-01  1.000e-09  1.000e-09  1.0000  0.000e+00  0.000e+00  0.000e+00  5.052e-02  4.752e-02  0.000e+00  0.000e+00\n",
      "  32  5.142e+00  0.000e+00  4.585e-03  9.171e-03  1.000e-09  1.000e-09  1.0000  0.000e+00  0.000e+00  0.000e+00  4.585e-03  1.945e-03  0.000e+00  0.000e+00\n",
      "  33  5.140e+00  0.000e+00  2.459e-03  4.919e-03  1.000e-09  1.000e-09  1.0000  0.000e+00  0.000e+00  0.000e+00  2.459e-03  2.011e-03  0.000e+00  0.000e+00\n",
      "  34  5.140e+00  0.000e+00  5.520e-04  1.104e-03  1.000e-09  1.000e-09  1.0000  0.000e+00  0.000e+00  0.000e+00  5.520e-04  1.047e-04  0.000e+00  0.000e+00\n",
      "  35  5.139e+00  0.000e+00  4.315e-04  8.630e-04  1.000e-09  1.000e-09  1.0000  0.000e+00  0.000e+00  0.000e+00  4.315e-04  2.010e-04  0.000e+00  0.000e+00\n",
      "  36  5.139e+00  0.000e+00  2.256e-04  4.513e-04  1.000e-09  1.000e-09  1.0000  0.000e+00  0.000e+00  0.000e+00  2.256e-04  3.115e-05  0.000e+00  0.000e+00\n",
      "  37  5.139e+00  0.000e+00  1.784e-04  3.569e-04  1.000e-09  1.000e-09  1.0000  0.000e+00  0.000e+00  0.000e+00  1.784e-04  5.063e-05  0.000e+00  0.000e+00\n",
      "  38  5.139e+00  0.000e+00  1.165e-04  2.330e-04  1.000e-09  1.000e-09  1.0000  0.000e+00  0.000e+00  0.000e+00  1.165e-04  1.523e-05  0.000e+00  0.000e+00\n",
      "  39  5.139e+00  0.000e+00  9.006e-05  1.801e-04  1.000e-09  1.000e-09  1.0000  0.000e+00  0.000e+00  0.000e+00  9.006e-05  1.804e-05  0.000e+00  0.000e+00\n",
      "iter    cost       merit      stop      |grad|      preg       dreg      step   ||ffeas||  ||gfeas||  ||hfeas||   dV-exp       dV      dPhi-exp     dPhi\n",
      "  40  5.139e+00  0.000e+00  6.418e-05  1.284e-04  1.000e-09  1.000e-09  1.0000  0.000e+00  0.000e+00  0.000e+00  6.418e-05  8.657e-06  0.000e+00  0.000e+00\n",
      "  41  5.139e+00  0.000e+00  4.868e-05  9.736e-05  1.000e-09  1.000e-09  1.0000  0.000e+00  0.000e+00  0.000e+00  4.868e-05  7.886e-06  0.000e+00  0.000e+00\n",
      "  42  5.139e+00  0.000e+00  3.601e-05  7.202e-05  1.000e-09  1.000e-09  1.0000  0.000e+00  0.000e+00  0.000e+00  3.601e-05  4.911e-06  0.000e+00  0.000e+00\n",
      "  43  5.139e+00  0.000e+00  2.710e-05  5.420e-05  1.000e-09  1.000e-09  1.0000  0.000e+00  0.000e+00  0.000e+00  2.710e-05  3.914e-06  0.000e+00  0.000e+00\n",
      "  44  5.139e+00  0.000e+00  2.037e-05  4.073e-05  1.000e-09  1.000e-09  1.0000  0.000e+00  0.000e+00  0.000e+00  2.037e-05  2.761e-06  0.000e+00  0.000e+00\n",
      "  45  5.139e+00  0.000e+00  1.531e-05  3.061e-05  1.000e-09  1.000e-09  1.0000  0.000e+00  0.000e+00  0.000e+00  1.531e-05  2.086e-06  0.000e+00  0.000e+00\n",
      "  46  5.139e+00  0.000e+00  1.158e-05  2.315e-05  1.000e-09  1.000e-09  1.0000  0.000e+00  0.000e+00  0.000e+00  1.158e-05  1.553e-06  0.000e+00  0.000e+00\n",
      "  47  5.139e+00  0.000e+00  8.709e-06  1.742e-05  1.000e-09  1.000e-09  1.0000  0.000e+00  0.000e+00  0.000e+00  8.709e-06  1.153e-06  0.000e+00  0.000e+00\n",
      "  48  5.139e+00  0.000e+00  6.605e-06  1.321e-05  1.000e-09  1.000e-09  1.0000  0.000e+00  0.000e+00  0.000e+00  6.605e-06  8.770e-07  0.000e+00  0.000e+00\n",
      "  49  5.139e+00  0.000e+00  4.976e-06  9.953e-06  1.000e-09  1.000e-09  1.0000  0.000e+00  0.000e+00  0.000e+00  4.976e-06  6.497e-07  0.000e+00  0.000e+00\n",
      "iter    cost       merit      stop      |grad|      preg       dreg      step   ||ffeas||  ||gfeas||  ||hfeas||   dV-exp       dV      dPhi-exp     dPhi\n",
      "  50  5.139e+00  0.000e+00  3.778e-06  7.556e-06  1.000e-09  1.000e-09  1.0000  0.000e+00  0.000e+00  0.000e+00  3.778e-06  4.976e-07  0.000e+00  0.000e+00\n",
      "  51  5.139e+00  0.000e+00  2.851e-06  5.702e-06  1.000e-09  1.000e-09  1.0000  0.000e+00  0.000e+00  0.000e+00  2.851e-06  3.695e-07  0.000e+00  0.000e+00\n",
      "  52  5.139e+00  0.000e+00  2.166e-06  4.332e-06  1.000e-09  1.000e-09  1.0000  0.000e+00  0.000e+00  0.000e+00  2.166e-06  2.834e-07  0.000e+00  0.000e+00\n",
      "  53  5.139e+00  0.000e+00  1.637e-06  3.273e-06  1.000e-09  1.000e-09  1.0000  0.000e+00  0.000e+00  0.000e+00  1.637e-06  2.112e-07  0.000e+00  0.000e+00\n",
      "  54  5.139e+00  0.000e+00  1.244e-06  2.487e-06  1.000e-09  1.000e-09  1.0000  0.000e+00  0.000e+00  0.000e+00  1.244e-06  1.619e-07  0.000e+00  0.000e+00\n",
      "  55  5.139e+00  0.000e+00  9.411e-07  1.882e-06  1.000e-09  1.000e-09  1.0000  0.000e+00  0.000e+00  0.000e+00  9.411e-07  1.210e-07  0.000e+00  0.000e+00\n",
      "  56  5.139e+00  0.000e+00  7.154e-07  1.431e-06  1.000e-09  1.000e-09  1.0000  0.000e+00  0.000e+00  0.000e+00  7.154e-07  9.271e-08  0.000e+00  0.000e+00\n",
      "  57  5.139e+00  0.000e+00  5.420e-07  1.084e-06  1.000e-09  1.000e-09  1.0000  0.000e+00  0.000e+00  0.000e+00  5.420e-07  6.952e-08  0.000e+00  0.000e+00\n",
      "  58  5.139e+00  0.000e+00  4.122e-07  8.243e-07  1.000e-09  1.000e-09  1.0000  0.000e+00  0.000e+00  0.000e+00  4.122e-07  5.319e-08  0.000e+00  0.000e+00\n",
      "  59  5.139e+00  0.000e+00  3.126e-07  6.253e-07  1.000e-09  1.000e-09  1.0000  0.000e+00  0.000e+00  0.000e+00  3.126e-07  4.000e-08  0.000e+00  0.000e+00\n",
      "iter    cost       merit      stop      |grad|      preg       dreg      step   ||ffeas||  ||gfeas||  ||hfeas||   dV-exp       dV      dPhi-exp     dPhi\n",
      "  60  5.139e+00  0.000e+00  2.379e-07  4.758e-07  1.000e-09  1.000e-09  1.0000  0.000e+00  0.000e+00  0.000e+00  2.379e-07  3.057e-08  0.000e+00  0.000e+00\n",
      "  61  5.139e+00  0.000e+00  1.807e-07  3.614e-07  1.000e-09  1.000e-09  1.0000  0.000e+00  0.000e+00  0.000e+00  1.807e-07  2.304e-08  0.000e+00  0.000e+00\n",
      "  62  5.139e+00  0.000e+00  1.376e-07  2.752e-07  1.000e-09  1.000e-09  1.0000  0.000e+00  0.000e+00  0.000e+00  1.376e-07  1.761e-08  0.000e+00  0.000e+00\n",
      "  63  5.139e+00  0.000e+00  1.046e-07  2.093e-07  1.000e-09  1.000e-09  1.0000  0.000e+00  0.000e+00  0.000e+00  1.046e-07  1.330e-08  0.000e+00  0.000e+00\n",
      "  64  5.139e+00  0.000e+00  7.976e-08  1.595e-07  1.000e-09  1.000e-09  1.0000  0.000e+00  0.000e+00  0.000e+00  7.976e-08  1.016e-08  0.000e+00  0.000e+00\n",
      "  65  5.139e+00  0.000e+00  6.074e-08  1.215e-07  1.000e-09  1.000e-09  1.0000  0.000e+00  0.000e+00  0.000e+00  6.074e-08  7.688e-09  0.000e+00  0.000e+00\n",
      "  66  5.139e+00  0.000e+00  4.635e-08  9.271e-08  1.000e-09  1.000e-09  1.0000  0.000e+00  0.000e+00  0.000e+00  4.635e-08  5.872e-09  0.000e+00  0.000e+00\n",
      "  67  5.139e+00  0.000e+00  3.536e-08  7.071e-08  1.000e-09  1.000e-09  1.0000  0.000e+00  0.000e+00  0.000e+00  3.536e-08  4.453e-09  0.000e+00  0.000e+00\n",
      "  68  5.139e+00  0.000e+00  2.702e-08  5.404e-08  1.000e-09  1.000e-09  1.0000  0.000e+00  0.000e+00  0.000e+00  2.702e-08  3.403e-09  0.000e+00  0.000e+00\n",
      "  69  5.139e+00  0.000e+00  2.065e-08  4.129e-08  1.000e-09  1.000e-09  1.0000  0.000e+00  0.000e+00  0.000e+00  2.065e-08  2.586e-09  0.000e+00  0.000e+00\n",
      "iter    cost       merit      stop      |grad|      preg       dreg      step   ||ffeas||  ||gfeas||  ||hfeas||   dV-exp       dV      dPhi-exp     dPhi\n",
      "  70  5.139e+00  0.000e+00  1.580e-08  3.160e-08  1.000e-09  1.000e-09  1.0000  0.000e+00  0.000e+00  0.000e+00  1.580e-08  1.977e-09  0.000e+00  0.000e+00\n",
      "  71  5.139e+00  0.000e+00  1.210e-08  2.420e-08  1.000e-09  1.000e-09  1.0000  0.000e+00  0.000e+00  0.000e+00  1.210e-08  1.505e-09  0.000e+00  0.000e+00\n",
      "  72  5.139e+00  0.000e+00  9.277e-09  1.855e-08  1.000e-09  1.000e-09  1.0000  0.000e+00  0.000e+00  0.000e+00  9.277e-09  1.152e-09  0.000e+00  0.000e+00\n",
      "  73  5.139e+00  0.000e+00  7.117e-09  1.423e-08  1.000e-09  1.000e-09  1.0000  0.000e+00  0.000e+00  0.000e+00  7.117e-09  8.791e-10  0.000e+00  0.000e+00\n",
      "  74  5.139e+00  0.000e+00  5.469e-09  1.094e-08  1.000e-09  1.000e-09  1.0000  0.000e+00  0.000e+00  0.000e+00  5.469e-09  6.738e-10  0.000e+00  0.000e+00\n",
      "  75  5.139e+00  0.000e+00  4.206e-09  8.412e-09  1.000e-09  1.000e-09  1.0000  0.000e+00  0.000e+00  0.000e+00  4.206e-09  5.152e-10  0.000e+00  0.000e+00\n",
      "  76  5.139e+00  0.000e+00  3.240e-09  6.480e-09  1.000e-09  1.000e-09  1.0000  0.000e+00  0.000e+00  0.000e+00  3.240e-09  3.955e-10  0.000e+00  0.000e+00\n",
      "  77  5.139e+00  0.000e+00  2.498e-09  4.996e-09  1.000e-09  1.000e-09  1.0000  0.000e+00  0.000e+00  0.000e+00  2.498e-09  3.031e-10  0.000e+00  0.000e+00\n",
      "  78  5.139e+00  0.000e+00  1.929e-09  3.859e-09  1.000e-09  1.000e-09  1.0000  0.000e+00  0.000e+00  0.000e+00  1.929e-09  2.331e-10  0.000e+00  0.000e+00\n",
      "  79  5.139e+00  0.000e+00  1.492e-09  2.984e-09  1.000e-09  1.000e-09  1.0000  0.000e+00  0.000e+00  0.000e+00  1.492e-09  1.791e-10  0.000e+00  0.000e+00\n",
      "iter    cost       merit      stop      |grad|      preg       dreg      step   ||ffeas||  ||gfeas||  ||hfeas||   dV-exp       dV      dPhi-exp     dPhi\n",
      "  80  5.139e+00  0.000e+00  1.155e-09  2.311e-09  1.000e-09  1.000e-09  1.0000  0.000e+00  0.000e+00  0.000e+00  1.155e-09  1.381e-10  0.000e+00  0.000e+00\n",
      "  81  5.139e+00  0.000e+00  8.962e-10  1.792e-09  1.000e-09  1.000e-09  1.0000  0.000e+00  0.000e+00  0.000e+00  8.962e-10  1.064e-10  0.000e+00  0.000e+00\n",
      "Problem solved: True\n",
      "Number of iterations: 81\n",
      "Total cost: 5.139285776570163\n",
      "Gradient norm: 8.96165767090152e-10\n"
     ]
    }
   ],
   "source": [
    "# Create the FDDP solver\n",
    "fddp = crocoddyl.SolverFDDP(problem)\n",
    "fddp.setCallbacks([crocoddyl.CallbackVerbose(), crocoddyl.CallbackDisplay(display)])\n",
    "x0 = problem.x0\n",
    "T = problem.T\n",
    "xs_init = [x0] * (T+1)\n",
    "\n",
    "# Solves the problem\n",
    "print(\"Problem solved:\", fddp.solve())\n",
    "print(\"Number of iterations:\", fddp.iter)\n",
    "print(\"Total cost:\", fddp.cost)\n",
    "print(\"Gradient norm:\", fddp.stoppingCriteria())"
   ]
  },
  {
   "cell_type": "code",
   "execution_count": 20,
   "metadata": {},
   "outputs": [],
   "source": [
    "display.rate = -1\n",
    "display.freq = 1\n",
    "display.displayFromSolver(fddp)"
   ]
  },
  {
   "cell_type": "code",
   "execution_count": 25,
   "metadata": {},
   "outputs": [
    {
     "name": "stdout",
     "output_type": "stream",
     "text": [
      "(44, 100)\n"
     ]
    }
   ],
   "source": [
    "print(fddp.K[0].shape)"
   ]
  },
  {
   "cell_type": "code",
   "execution_count": 26,
   "metadata": {},
   "outputs": [
    {
     "name": "stdout",
     "output_type": "stream",
     "text": [
      "83\n"
     ]
    }
   ],
   "source": [
    "print(len(fddp.K))"
   ]
  },
  {
   "cell_type": "code",
   "execution_count": 27,
   "metadata": {},
   "outputs": [
    {
     "name": "stdout",
     "output_type": "stream",
     "text": [
      "51\n"
     ]
    }
   ],
   "source": [
    "print(robot.nq)"
   ]
  }
 ],
 "metadata": {
  "kernelspec": {
   "display_name": "Python 3 (ipykernel)",
   "language": "python",
   "name": "python3"
  },
  "language_info": {
   "codemirror_mode": {
    "name": "ipython",
    "version": 3
   },
   "file_extension": ".py",
   "mimetype": "text/x-python",
   "name": "python",
   "nbconvert_exporter": "python",
   "pygments_lexer": "ipython3",
   "version": "3.12.3"
  }
 },
 "nbformat": 4,
 "nbformat_minor": 2
}
