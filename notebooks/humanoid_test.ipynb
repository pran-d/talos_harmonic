{
 "cells": [
  {
   "cell_type": "markdown",
   "id": "053380da",
   "metadata": {},
   "source": [
    "### Task 1: 4-point OCP"
   ]
  },
  {
   "cell_type": "code",
   "execution_count": null,
   "id": "0b273dfd",
   "metadata": {},
   "outputs": [],
   "source": [
    "import crocoddyl\n",
    "import pinocchio as pin\n",
    "import numpy as np\n",
    "import example_robot_data\n",
    "import time"
   ]
  },
  {
   "cell_type": "code",
   "execution_count": null,
   "id": "b9c87b37",
   "metadata": {},
   "outputs": [],
   "source": [
    "robot = example_robot_data.load('panda')\n",
    "robot.model,[robot.visual_model,robot.collision_model] = \\\n",
    "    pin.buildReducedModel(robot.model,[robot.visual_model,robot.collision_model],[8,9],robot.q0)\n",
    "robot.q0 = robot.q0[:7].copy()\n",
    "\n",
    "model = robot.model\n",
    "model.armature = np.array([1.0, 1.0, 1.0, 1.0, 1.0, 1.0, 0.])*5\n",
    "q0 = np.array([0,-0.8,0,-2.4,0,1.57,0.8])\n",
    "x0 = np.concatenate([q0, np.zeros(model.nv)])\n",
    "data = model.createData()\n",
    "\n",
    "from supaero2025.meshcat_viewer_wrapper import MeshcatVisualizer\n",
    "\n",
    "viz = MeshcatVisualizer(robot, robot.collision_model, robot.visual_model)\n",
    "viz.display(robot.q0)\n",
    "viz.loadViewerModel()\n",
    "\n",
    "viz.viewer.jupyter_cell()"
   ]
  },
  {
   "cell_type": "code",
   "execution_count": null,
   "id": "46c1231f",
   "metadata": {},
   "outputs": [],
   "source": [
    "robot_model = model \n",
    "lh_id = robot_model.getFrameId(\"panda_hand_tcp\")\n",
    "\n",
    "GOAL_POSITION = np.array([.4, .4, 1])\n",
    "GOAL_PLACEMENT = pin.SE3(pin.utils.rpyToMatrix(-np.pi, -1.5, 1.5), GOAL_POSITION)"
   ]
  },
  {
   "cell_type": "code",
   "execution_count": null,
   "id": "0e38c8a1",
   "metadata": {},
   "outputs": [],
   "source": [
    "# robot = example_robot_data.load('talos')\n",
    "# model = robot.model\n",
    "# q0 = model.referenceConfigurations[\"half_sitting\"]\n",
    "# x0 = np.concatenate([q0, np.zeros(model.nv)])\n",
    "# data = model.createData()\n",
    "\n",
    "# from supaero2025.meshcat_viewer_wrapper import MeshcatVisualizer\n",
    "\n",
    "# viz = MeshcatVisualizer(robot, robot.collision_model, robot.visual_model)\n",
    "# viz.display(robot.q0)\n",
    "# viz.loadViewerModel()\n",
    "\n",
    "# viz.viewer.jupyter_cell()"
   ]
  },
  {
   "cell_type": "code",
   "execution_count": null,
   "id": "8dd00a8e",
   "metadata": {},
   "outputs": [],
   "source": [
    "# robot = example_robot_data.load('talos')\n",
    "# robot_model = robot.model\n",
    "# q0 = robot_model.referenceConfigurations[\"half_sitting\"]\n",
    "# x0 = np.concatenate([q0, np.zeros(robot_model.nv)])"
   ]
  },
  {
   "cell_type": "code",
   "execution_count": null,
   "id": "e3109348",
   "metadata": {},
   "outputs": [],
   "source": [
    "# rf_id = robot_model.getFrameId(\"right_sole_link\")\n",
    "# lf_id = robot_model.getFrameId(\"left_sole_link\")\n",
    "# lh_id = robot_model.getFrameId(\"gripper_left_joint\")\n",
    "\n",
    "# GOAL_POSITION = np.array([.4, .4, 1])\n",
    "# GOAL_PLACEMENT = pin.SE3(pin.utils.rpyToMatrix(-np.pi, -1.5, 1.5), GOAL_POSITION)"
   ]
  },
  {
   "cell_type": "code",
   "execution_count": null,
   "id": "183b9904",
   "metadata": {},
   "outputs": [],
   "source": [
    "from supaero2025.meshcat_viewer_wrapper import MeshcatVisualizer\n",
    "viz = MeshcatVisualizer(robot)\n",
    "viz.display(robot.q0)\n",
    "viz.addBox('world/goal',[.1,.1,.1],[0,1,0,1])\n",
    "viz.applyConfiguration('world/goal',GOAL_PLACEMENT)\n",
    "\n",
    "viz.viewer.jupyter_cell()"
   ]
  },
  {
   "cell_type": "code",
   "execution_count": null,
   "id": "2bcdac0c",
   "metadata": {},
   "outputs": [],
   "source": [
    "state = crocoddyl.StateMultibody(robot_model)\n",
    "actuation = crocoddyl.ActuationModelFloatingBase(state)\n",
    "\n",
    "contacts = crocoddyl.ContactModelMultiple(state, actuation.nu)\n",
    "\n",
    "# lf_contact = crocoddyl.ContactModel6D(\n",
    "#     state,\n",
    "#     lf_id,\n",
    "#     pin.SE3.Identity(),\n",
    "#     pin.LOCAL_WORLD_ALIGNED,\n",
    "#     actuation.nu,\n",
    "#     np.array([0,0]),\n",
    "# )\n",
    "# rf_contact = crocoddyl.ContactModel6D(\n",
    "#     state,\n",
    "#     rf_id,\n",
    "#     pin.SE3.Identity(),\n",
    "#     pin.LOCAL_WORLD_ALIGNED,\n",
    "#     actuation.nu,\n",
    "#     np.array([0,0]),\n",
    "# )\n",
    "\n",
    "# contacts.addContact(\"lf_contact\", lf_contact)\n",
    "# contacts.addContact(\"rf_contact\", rf_contact)\n",
    "\n",
    "costModel = crocoddyl.CostModelSum(state, actuation.nu)\n",
    "\n",
    "w_hand = np.array([1,1,1,0.0001,0.0001,0.0001])\n",
    "lh_Mref = pin.SE3(np.eye(3), GOAL_POSITION)\n",
    "activation_hand = crocoddyl.ActivationModelWeightedQuad(w_hand**2)\n",
    "lh_cost = crocoddyl.CostModelResidual(\n",
    "    state,\n",
    "    activation_hand,\n",
    "    crocoddyl.ResidualModelFramePlacement(state, lh_id, lh_Mref, actuation.nu),\n",
    ")\n",
    "costModel.addCost(\"lh_goal\", lh_cost, 100)"
   ]
  },
  {
   "cell_type": "code",
   "execution_count": null,
   "id": "006095a8",
   "metadata": {},
   "outputs": [],
   "source": [
    "# Adding state and control regularization terms\n",
    "w_x = np.array([0] * 3 + [10.0] * 3 + [0.01] * (state.nv - 6) + [10] * state.nv)\n",
    "activation_xreg = crocoddyl.ActivationModelWeightedQuad(w_x**2)\n",
    "x_reg_cost = crocoddyl.CostModelResidual(\n",
    "    state, activation_xreg, crocoddyl.ResidualModelState(state, x0, actuation.nu)\n",
    ")\n",
    "u_reg_cost = crocoddyl.CostModelResidual(\n",
    "    state, crocoddyl.ResidualModelControl(state, actuation.nu)\n",
    ")\n",
    "costModel.addCost(\"xReg\", x_reg_cost, 1e-3)\n",
    "costModel.addCost(\"uReg\", u_reg_cost, 1e-4)\n"
   ]
  },
  {
   "cell_type": "code",
   "execution_count": null,
   "id": "67f9ce67",
   "metadata": {},
   "outputs": [],
   "source": [
    "# Adding the state limits penalization\n",
    "x_lb = np.concatenate([state.lb[1 : state.nv + 1], state.lb[-state.nv :]])\n",
    "x_ub = np.concatenate([state.ub[1 : state.nv + 1], state.ub[-state.nv :]])\n",
    "activation_xbounds = crocoddyl.ActivationModelQuadraticBarrier(\n",
    "    crocoddyl.ActivationBounds(x_lb, x_ub)\n",
    ")\n",
    "x_bounds = crocoddyl.CostModelResidual(\n",
    "    state,\n",
    "    activation_xbounds,\n",
    "    crocoddyl.ResidualModelState(state, 0 * x0, actuation.nu),\n",
    ")\n",
    "costModel.addCost(\"xBounds\", x_bounds, 1.0)\n"
   ]
  },
  {
   "cell_type": "code",
   "execution_count": null,
   "id": "5171f6dc",
   "metadata": {},
   "outputs": [],
   "source": [
    "# # Adding the friction cone penalization\n",
    "# nsurf, mu = np.identity(3), 0.7\n",
    "# cone = crocoddyl.FrictionCone(nsurf, mu, 4, False)\n",
    "# activation_friction = crocoddyl.ActivationModelQuadraticBarrier(\n",
    "#     crocoddyl.ActivationBounds(cone.lb, cone.ub)\n",
    "# )\n",
    "# lf_friction = crocoddyl.CostModelResidual(\n",
    "#     state,\n",
    "#     activation_friction,\n",
    "#     crocoddyl.ResidualModelContactFrictionCone(state, lf_id, cone, actuation.nu),\n",
    "# )\n",
    "# rf_friction = crocoddyl.CostModelResidual(\n",
    "#     state,\n",
    "#     activation_friction,\n",
    "#     crocoddyl.ResidualModelContactFrictionCone(state, rf_id, cone, actuation.nu),\n",
    "# )\n",
    "# costModel.addCost(\"lf_friction\", lf_friction, 1e1)\n",
    "# costModel.addCost(\"rf_friction\", rf_friction, 1e1)"
   ]
  },
  {
   "cell_type": "code",
   "execution_count": null,
   "id": "725a2d88",
   "metadata": {},
   "outputs": [],
   "source": [
    "dmodel = crocoddyl.DifferentialActionModelContactFwdDynamics(\n",
    "    state, actuation, contacts, costModel\n",
    ")\n",
    "\n",
    "T = 100\n"
   ]
  },
  {
   "cell_type": "code",
   "execution_count": null,
   "id": "783778e5",
   "metadata": {},
   "outputs": [],
   "source": [
    "seq = [crocoddyl.IntegratedActionModelEuler(dmodel, 0.001)] * T \\\n",
    "    + [crocoddyl.IntegratedActionModelEuler(dmodel, 0.0)]\n",
    "    \n",
    "# problem = crocoddyl.ShootingProblem(x0,seq0+seq1+seq2+seq3,terminalModels[3])\n",
    "problem = crocoddyl.ShootingProblem(x0,seq,seq[-1])"
   ]
  },
  {
   "cell_type": "code",
   "execution_count": null,
   "id": "fcae5211",
   "metadata": {},
   "outputs": [],
   "source": [
    "solver = crocoddyl.SolverFDDP(problem)\n",
    "solver.with_callbacks = True \n",
    "solver.termination_tolerance = 1e-3         # Termination criteria (KKT residual)\n",
    "solver.max_qp_iters = 1000                  # Maximum number of QP iteration\n",
    "solver.eps_abs = 1e-5                       # QP termination absolute criteria, 1e-9 \n",
    "solver.eps_rel = 0.                         # QP termination absolute criteria\n",
    "solver.use_filter_line_search = True        # True by default, False = use merit function\n",
    "\n",
    "print(solver.solve([],[],1000))  # xs_init,us_init,maxiter\n",
    "print(\"Number of iterations: \", solver.iter)\n",
    "print(\"Cost: \", solver.cost)"
   ]
  },
  {
   "cell_type": "code",
   "execution_count": null,
   "id": "041d5a26",
   "metadata": {},
   "outputs": [],
   "source": [
    "viz.viewer.jupyter_cell()"
   ]
  },
  {
   "cell_type": "code",
   "execution_count": null,
   "id": "5a0ac68b",
   "metadata": {},
   "outputs": [],
   "source": [
    "viz.play([x[:robot.model.nq] for x in solver.xs],0.001)"
   ]
  },
  {
   "cell_type": "code",
   "execution_count": null,
   "id": "e93d86ca",
   "metadata": {},
   "outputs": [],
   "source": [
    "print(solver.xs[-1])"
   ]
  }
 ],
 "metadata": {
  "kernelspec": {
   "display_name": "Python 3 (ipykernel)",
   "language": "python",
   "name": "python3"
  },
  "language_info": {
   "codemirror_mode": {
    "name": "ipython",
    "version": 3
   },
   "file_extension": ".py",
   "mimetype": "text/x-python",
   "name": "python",
   "nbconvert_exporter": "python",
   "pygments_lexer": "ipython3",
   "version": "3.12.3"
  }
 },
 "nbformat": 4,
 "nbformat_minor": 5
}
